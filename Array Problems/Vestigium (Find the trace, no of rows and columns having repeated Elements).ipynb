{
 "cells": [
  {
   "cell_type": "code",
   "execution_count": 3,
   "metadata": {},
   "outputs": [
    {
     "name": "stdout",
     "output_type": "stream",
     "text": [
      "3\n",
      "4\n",
      "1 2 3 4\n",
      "2 1 4 3\n",
      "3 4 1 2\n",
      "4 3 2 1\n",
      "Case #1: 4 0 0\n",
      "4\n",
      "2 2 2 2\n",
      "2 3 2 3\n",
      "2 2 2 3\n",
      "2 2 2 2\n",
      "Case #2: 9 4 4\n",
      "3\n",
      "2 1 3\n",
      "1 3 2\n",
      "1 2 3\n",
      "Case #3: 8 0 2\n"
     ]
    },
    {
     "data": {
      "text/plain": [
       "'\\nOutput:\\n\\n'"
      ]
     },
     "execution_count": 3,
     "metadata": {},
     "output_type": "execute_result"
    }
   ],
   "source": [
    "#Vestigium (Find the trace, no of rows and columns having repeated Elements)\n",
    "\n",
    "from collections import Counter\n",
    "t = int(input())\n",
    "for i in range(1, t+1):\n",
    "    li1 = []\n",
    "    trace = 0\n",
    "    cr = 0\n",
    "    n = int(input())\n",
    "    for j in range(n):\n",
    "        str1 = list(map(int, input().split()))\n",
    "        li1.append(str1)\n",
    "        di = dict(Counter(str1))\n",
    "        for key, val in di.items():\n",
    "            if val==1:\n",
    "                continue\n",
    "            else:\n",
    "                cr+=1\n",
    "                break\n",
    "        trace+=li1[j][j]\n",
    "    cc = 0\n",
    "    for j in range(n):\n",
    "        s = []\n",
    "        for k in range(n):\n",
    "            s.append(li1[k][j])\n",
    "        di1 = dict(Counter(s))\n",
    "        for key, val in di1.items():\n",
    "            if val==1:\n",
    "                continue\n",
    "            else:\n",
    "                cc+=1\n",
    "                break\n",
    "    print(\"Case #{}: {} {} {}\".format(i, trace, cr, cc))\n",
    "'''\n",
    "Output:\n",
    "3\n",
    "4\n",
    "1 2 3 4\n",
    "2 1 4 3\n",
    "3 4 1 2\n",
    "4 3 2 1\n",
    "Case #1: 4 0 0\n",
    "4\n",
    "2 2 2 2\n",
    "2 3 2 3\n",
    "2 2 2 3\n",
    "2 2 2 2\n",
    "Case #2: 9 4 4\n",
    "3\n",
    "2 1 3\n",
    "1 3 2\n",
    "1 2 3\n",
    "Case #3: 8 0 2\n",
    "'''\n"
   ]
  },
  {
   "cell_type": "code",
   "execution_count": null,
   "metadata": {},
   "outputs": [],
   "source": []
  }
 ],
 "metadata": {
  "kernelspec": {
   "display_name": "Python 3",
   "language": "python",
   "name": "python3"
  },
  "language_info": {
   "codemirror_mode": {
    "name": "ipython",
    "version": 3
   },
   "file_extension": ".py",
   "mimetype": "text/x-python",
   "name": "python",
   "nbconvert_exporter": "python",
   "pygments_lexer": "ipython3",
   "version": "3.8.2"
  }
 },
 "nbformat": 4,
 "nbformat_minor": 4
}
